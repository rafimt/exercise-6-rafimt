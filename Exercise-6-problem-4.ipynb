{
 "cells": [
  {
   "cell_type": "markdown",
   "metadata": {
    "deletable": false,
    "editable": false,
    "nbgrader": {
     "cell_type": "markdown",
     "checksum": "cbec50fc654146e1ea8a4cd3fc1ef5bd",
     "grade": false,
     "grade_id": "cell-bc924b1ba40193e7",
     "locked": true,
     "schema_version": 3,
     "solution": false
    }
   },
   "source": [
    "# Problem 4 (*optional*)\n",
    "\n",
    "**Attention**: *As of 7:00 on 9 October 9th 2023, the NOAA Climate Data Online website is down, so it is not possible to complete this problem. Sorry :(.*\n",
    "\n",
    "This optional problem is an opportunity to practice calculating weather anomalies for another location. You get to start from scratch and download the data yourself from NOAA.\n",
    "\n",
    "## What to do\n",
    "\n",
    "1. Start by downloading your own data (daily summaries for years **1959-2018 August**) for **Sodankyla Lokka** (notice the place name should be without the letter `ä`), from the [NOAA Climate Data Online Search](https://www.ncdc.noaa.gov/cdo-web/search?datasetid=GHCND). Make sure to select the starting day (and ending day) in the date selection panel after changing the year! After you have searched, click “Add to cart” for a selected station, then go to the cart. Select the ``Custom GHCN-Daily Text`` format for the resulting output file and hit continue.\n",
    "\n",
    "    - From the `Station Detail & Data Flag Options` choose two of the following attributes: Station Name, Geographic Location. **Notice:** Do **NOT** include data flags because it makes the data difficult to read. Use **Standard** units.\n",
    "    - Take also Precipitation and Temperature which are under a separate button below. \n",
    "    - From the next page, add your own email address where the weather data will be sent after a short moment.\n",
    "\n",
    "2. After you have downloaded the data. you should first,\n",
    "\n",
    "    - Calculate the average temperature using columns `TMAX` and `TMIN` and insert those values into a new column called `TAVG`.\n",
    "\n",
    "3. Next, you should use the approaches learned during this week and used in Problem 3 to answer / do the following:\n",
    "\n",
    "    - Calculate the temperature anomalies in Sodankylä, i.e., the difference between `reference_temps` and the average temperature for each month (see Problem 3).\n",
    "    - Calculate the monthly temperature differences between the Sodankylä and Helsinki stations\n",
    "        - How different are the summer temperatures (June, July, August) between Helsinki (used in Problems 1-3) and Sodankylä?\n",
    "        - What were the summer mean temperatures for both of these stations?\n",
    "        - What were the summer standard deviations for both of these stations?\n",
    "    - Calculate the monthly differences in a DataFrame and save it (as `CSV` file) into your own Exercise repository for this week\n",
    "4. Upload your notebook and data to GitHub"
   ]
  },
  {
   "cell_type": "code",
   "execution_count": 1,
   "metadata": {},
   "outputs": [
    {
     "data": {
      "text/plain": [
       "'/home/jovyan/Exercise_geopython/exercise-6-rafimt/data/3664866.txt'"
      ]
     },
     "execution_count": 1,
     "metadata": {},
     "output_type": "execute_result"
    }
   ],
   "source": [
    "import os\n",
    "\n",
    "def find_file(root_folder, filename):\n",
    "    for root, dirs, files in os.walk(root_folder):\n",
    "        if filename in files:\n",
    "            return os.path.join(root, filename)\n",
    "    return \"File not found.\"\n",
    "file_path = find_file(os.getcwd(), '3664866.txt')\n",
    "file_path"
   ]
  },
  {
   "cell_type": "code",
   "execution_count": 2,
   "metadata": {
    "tags": []
   },
   "outputs": [
    {
     "data": {
      "text/html": [
       "<div>\n",
       "<style scoped>\n",
       "    .dataframe tbody tr th:only-of-type {\n",
       "        vertical-align: middle;\n",
       "    }\n",
       "\n",
       "    .dataframe tbody tr th {\n",
       "        vertical-align: top;\n",
       "    }\n",
       "\n",
       "    .dataframe thead th {\n",
       "        text-align: right;\n",
       "    }\n",
       "</style>\n",
       "<table border=\"1\" class=\"dataframe\">\n",
       "  <thead>\n",
       "    <tr style=\"text-align: right;\">\n",
       "      <th></th>\n",
       "      <th></th>\n",
       "      <th>STATION</th>\n",
       "      <th>STATION_NAME</th>\n",
       "      <th>DATE</th>\n",
       "      <th>PRCP</th>\n",
       "      <th>TMAX</th>\n",
       "      <th>TMIN</th>\n",
       "    </tr>\n",
       "  </thead>\n",
       "  <tbody>\n",
       "    <tr>\n",
       "      <th rowspan=\"5\" valign=\"top\">GHCND:FIE00146538</th>\n",
       "      <th>SODANKYLA</th>\n",
       "      <td>LOKKA</td>\n",
       "      <td>FI</td>\n",
       "      <td>20180827</td>\n",
       "      <td>0.04</td>\n",
       "      <td>55.0</td>\n",
       "      <td>43.0</td>\n",
       "    </tr>\n",
       "    <tr>\n",
       "      <th>SODANKYLA</th>\n",
       "      <td>LOKKA</td>\n",
       "      <td>FI</td>\n",
       "      <td>20180828</td>\n",
       "      <td>0.00</td>\n",
       "      <td>59.0</td>\n",
       "      <td>31.0</td>\n",
       "    </tr>\n",
       "    <tr>\n",
       "      <th>SODANKYLA</th>\n",
       "      <td>LOKKA</td>\n",
       "      <td>FI</td>\n",
       "      <td>20180829</td>\n",
       "      <td>0.00</td>\n",
       "      <td>65.0</td>\n",
       "      <td>32.0</td>\n",
       "    </tr>\n",
       "    <tr>\n",
       "      <th>SODANKYLA</th>\n",
       "      <td>LOKKA</td>\n",
       "      <td>FI</td>\n",
       "      <td>20180830</td>\n",
       "      <td>0.02</td>\n",
       "      <td>65.0</td>\n",
       "      <td>48.0</td>\n",
       "    </tr>\n",
       "    <tr>\n",
       "      <th>SODANKYLA</th>\n",
       "      <td>LOKKA</td>\n",
       "      <td>FI</td>\n",
       "      <td>20180831</td>\n",
       "      <td>0.00</td>\n",
       "      <td>59.0</td>\n",
       "      <td>46.0</td>\n",
       "    </tr>\n",
       "  </tbody>\n",
       "</table>\n",
       "</div>"
      ],
      "text/plain": [
       "                            STATION STATION_NAME      DATE  PRCP  TMAX  TMIN\n",
       "GHCND:FIE00146538 SODANKYLA   LOKKA           FI  20180827  0.04  55.0  43.0\n",
       "                  SODANKYLA   LOKKA           FI  20180828  0.00  59.0  31.0\n",
       "                  SODANKYLA   LOKKA           FI  20180829  0.00  65.0  32.0\n",
       "                  SODANKYLA   LOKKA           FI  20180830  0.02  65.0  48.0\n",
       "                  SODANKYLA   LOKKA           FI  20180831  0.00  59.0  46.0"
      ]
     },
     "execution_count": 2,
     "metadata": {},
     "output_type": "execute_result"
    }
   ],
   "source": [
    "import pandas as pd\n",
    "fp = r'/home/jovyan/Exercise_geopython/exercise-6-rafimt/data/3664866.txt'\n",
    "\n",
    "\n",
    "data =pd.read_csv(fp,delim_whitespace=True, na_values=[-9999],skiprows=[1])\n",
    "\n",
    "# YOUR CODE HERE\n",
    "data.tail()"
   ]
  },
  {
   "cell_type": "code",
   "execution_count": 3,
   "metadata": {
    "tags": []
   },
   "outputs": [
    {
     "name": "stdout",
     "output_type": "stream",
     "text": [
      "66.0\n",
      "\n",
      "66.0\n"
     ]
    }
   ],
   "source": [
    "print(data[\"TMIN\"].max())\n",
    "print()\n",
    "print(data[\"TMIN\"].max())"
   ]
  },
  {
   "cell_type": "code",
   "execution_count": 4,
   "metadata": {},
   "outputs": [
    {
     "data": {
      "text/plain": [
       "75.0"
      ]
     },
     "execution_count": 4,
     "metadata": {},
     "output_type": "execute_result"
    }
   ],
   "source": [
    "data[\"TAVG\"] = (data[\"TMAX\"] + data[\"TMIN\"])/2\n",
    "data[\"TAVG\"].max()"
   ]
  },
  {
   "cell_type": "code",
   "execution_count": 5,
   "metadata": {
    "tags": []
   },
   "outputs": [
    {
     "data": {
      "text/html": [
       "<div>\n",
       "<style scoped>\n",
       "    .dataframe tbody tr th:only-of-type {\n",
       "        vertical-align: middle;\n",
       "    }\n",
       "\n",
       "    .dataframe tbody tr th {\n",
       "        vertical-align: top;\n",
       "    }\n",
       "\n",
       "    .dataframe thead th {\n",
       "        text-align: right;\n",
       "    }\n",
       "</style>\n",
       "<table border=\"1\" class=\"dataframe\">\n",
       "  <thead>\n",
       "    <tr style=\"text-align: right;\">\n",
       "      <th></th>\n",
       "      <th></th>\n",
       "      <th>STATION</th>\n",
       "      <th>STATION_NAME</th>\n",
       "      <th>DATE</th>\n",
       "      <th>PRCP</th>\n",
       "      <th>TMAX</th>\n",
       "      <th>TMIN</th>\n",
       "      <th>TAVG</th>\n",
       "      <th>temp_celsius</th>\n",
       "      <th>MONTH</th>\n",
       "    </tr>\n",
       "  </thead>\n",
       "  <tbody>\n",
       "    <tr>\n",
       "      <th rowspan=\"5\" valign=\"top\">GHCND:FIE00146538</th>\n",
       "      <th>SODANKYLA</th>\n",
       "      <td>LOKKA</td>\n",
       "      <td>FI</td>\n",
       "      <td>20180827</td>\n",
       "      <td>0.04</td>\n",
       "      <td>55.0</td>\n",
       "      <td>43.0</td>\n",
       "      <td>49.0</td>\n",
       "      <td>9.444444</td>\n",
       "      <td>201808</td>\n",
       "    </tr>\n",
       "    <tr>\n",
       "      <th>SODANKYLA</th>\n",
       "      <td>LOKKA</td>\n",
       "      <td>FI</td>\n",
       "      <td>20180828</td>\n",
       "      <td>0.00</td>\n",
       "      <td>59.0</td>\n",
       "      <td>31.0</td>\n",
       "      <td>45.0</td>\n",
       "      <td>7.222222</td>\n",
       "      <td>201808</td>\n",
       "    </tr>\n",
       "    <tr>\n",
       "      <th>SODANKYLA</th>\n",
       "      <td>LOKKA</td>\n",
       "      <td>FI</td>\n",
       "      <td>20180829</td>\n",
       "      <td>0.00</td>\n",
       "      <td>65.0</td>\n",
       "      <td>32.0</td>\n",
       "      <td>48.5</td>\n",
       "      <td>9.166667</td>\n",
       "      <td>201808</td>\n",
       "    </tr>\n",
       "    <tr>\n",
       "      <th>SODANKYLA</th>\n",
       "      <td>LOKKA</td>\n",
       "      <td>FI</td>\n",
       "      <td>20180830</td>\n",
       "      <td>0.02</td>\n",
       "      <td>65.0</td>\n",
       "      <td>48.0</td>\n",
       "      <td>56.5</td>\n",
       "      <td>13.611111</td>\n",
       "      <td>201808</td>\n",
       "    </tr>\n",
       "    <tr>\n",
       "      <th>SODANKYLA</th>\n",
       "      <td>LOKKA</td>\n",
       "      <td>FI</td>\n",
       "      <td>20180831</td>\n",
       "      <td>0.00</td>\n",
       "      <td>59.0</td>\n",
       "      <td>46.0</td>\n",
       "      <td>52.5</td>\n",
       "      <td>11.388889</td>\n",
       "      <td>201808</td>\n",
       "    </tr>\n",
       "  </tbody>\n",
       "</table>\n",
       "</div>"
      ],
      "text/plain": [
       "                            STATION STATION_NAME      DATE  PRCP  TMAX  TMIN  \\\n",
       "GHCND:FIE00146538 SODANKYLA   LOKKA           FI  20180827  0.04  55.0  43.0   \n",
       "                  SODANKYLA   LOKKA           FI  20180828  0.00  59.0  31.0   \n",
       "                  SODANKYLA   LOKKA           FI  20180829  0.00  65.0  32.0   \n",
       "                  SODANKYLA   LOKKA           FI  20180830  0.02  65.0  48.0   \n",
       "                  SODANKYLA   LOKKA           FI  20180831  0.00  59.0  46.0   \n",
       "\n",
       "                             TAVG  temp_celsius   MONTH  \n",
       "GHCND:FIE00146538 SODANKYLA  49.0      9.444444  201808  \n",
       "                  SODANKYLA  45.0      7.222222  201808  \n",
       "                  SODANKYLA  48.5      9.166667  201808  \n",
       "                  SODANKYLA  56.5     13.611111  201808  \n",
       "                  SODANKYLA  52.5     11.388889  201808  "
      ]
     },
     "execution_count": 5,
     "metadata": {},
     "output_type": "execute_result"
    }
   ],
   "source": [
    "def fahr_to_celsius(temp_fahrenheit):\n",
    "    return (temp_fahrenheit -32) / 1.8\n",
    "data[\"temp_celsius\"] = data[\"TAVG\"].apply(fahr_to_celsius)\n",
    "\n",
    "data[\"MONTH\"] = data[\"DATE\"].astype(str)\n",
    "\n",
    "    # Parse year and month and convert them to numbers\n",
    "data[\"MONTH\"] = data[\"MONTH\"].str.slice(start=0, stop=6).astype(int)\n",
    "\n",
    "monthly_data = data.groupby(\"MONTH\")[\"temp_celsius\"].mean().reset_index()\n",
    "monthly_data\n",
    "\n",
    "\n",
    "data.tail()"
   ]
  },
  {
   "cell_type": "code",
   "execution_count": 6,
   "metadata": {
    "tags": []
   },
   "outputs": [
    {
     "data": {
      "text/html": [
       "<div>\n",
       "<style scoped>\n",
       "    .dataframe tbody tr th:only-of-type {\n",
       "        vertical-align: middle;\n",
       "    }\n",
       "\n",
       "    .dataframe tbody tr th {\n",
       "        vertical-align: top;\n",
       "    }\n",
       "\n",
       "    .dataframe thead th {\n",
       "        text-align: right;\n",
       "    }\n",
       "</style>\n",
       "<table border=\"1\" class=\"dataframe\">\n",
       "  <thead>\n",
       "    <tr style=\"text-align: right;\">\n",
       "      <th></th>\n",
       "      <th>month</th>\n",
       "      <th>ref_temp</th>\n",
       "    </tr>\n",
       "  </thead>\n",
       "  <tbody>\n",
       "    <tr>\n",
       "      <th>0</th>\n",
       "      <td>1</td>\n",
       "      <td>-16.153425</td>\n",
       "    </tr>\n",
       "    <tr>\n",
       "      <th>1</th>\n",
       "      <td>2</td>\n",
       "      <td>-16.219250</td>\n",
       "    </tr>\n",
       "    <tr>\n",
       "      <th>2</th>\n",
       "      <td>3</td>\n",
       "      <td>-11.184289</td>\n",
       "    </tr>\n",
       "    <tr>\n",
       "      <th>3</th>\n",
       "      <td>4</td>\n",
       "      <td>-4.104938</td>\n",
       "    </tr>\n",
       "    <tr>\n",
       "      <th>4</th>\n",
       "      <td>5</td>\n",
       "      <td>3.423411</td>\n",
       "    </tr>\n",
       "    <tr>\n",
       "      <th>5</th>\n",
       "      <td>6</td>\n",
       "      <td>10.291667</td>\n",
       "    </tr>\n",
       "    <tr>\n",
       "      <th>6</th>\n",
       "      <td>7</td>\n",
       "      <td>12.934991</td>\n",
       "    </tr>\n",
       "    <tr>\n",
       "      <th>7</th>\n",
       "      <td>8</td>\n",
       "      <td>10.635753</td>\n",
       "    </tr>\n",
       "    <tr>\n",
       "      <th>8</th>\n",
       "      <td>9</td>\n",
       "      <td>5.119444</td>\n",
       "    </tr>\n",
       "    <tr>\n",
       "      <th>9</th>\n",
       "      <td>10</td>\n",
       "      <td>-1.918459</td>\n",
       "    </tr>\n",
       "    <tr>\n",
       "      <th>10</th>\n",
       "      <td>11</td>\n",
       "      <td>-7.987963</td>\n",
       "    </tr>\n",
       "    <tr>\n",
       "      <th>11</th>\n",
       "      <td>12</td>\n",
       "      <td>-13.147401</td>\n",
       "    </tr>\n",
       "  </tbody>\n",
       "</table>\n",
       "</div>"
      ],
      "text/plain": [
       "    month   ref_temp\n",
       "0       1 -16.153425\n",
       "1       2 -16.219250\n",
       "2       3 -11.184289\n",
       "3       4  -4.104938\n",
       "4       5   3.423411\n",
       "5       6  10.291667\n",
       "6       7  12.934991\n",
       "7       8  10.635753\n",
       "8       9   5.119444\n",
       "9      10  -1.918459\n",
       "10     11  -7.987963\n",
       "11     12 -13.147401"
      ]
     },
     "execution_count": 6,
     "metadata": {},
     "output_type": "execute_result"
    }
   ],
   "source": [
    "reference_temps = monthly_data.rename(columns={\"temp_celsius\": \"ref_temp\", \"MONTH\": \"month\"})\n",
    "reference_temps = reference_temps.loc[(reference_temps['month']>=195101) & (reference_temps['month']<198101)]\n",
    "reference_temps[\"month\"] = reference_temps[\"month\"].astype(str)\n",
    "\n",
    "    # Parse year and month and convert them to numbers\n",
    "reference_temps[\"month\"] = reference_temps[\"month\"].str.slice(start=4, stop=6).astype(int)\n",
    "reference_temps = reference_temps.groupby(\"month\")[\"ref_temp\"].mean().reset_index()\n",
    "\n",
    "reference_temps"
   ]
  },
  {
   "cell_type": "code",
   "execution_count": 7,
   "metadata": {
    "tags": []
   },
   "outputs": [
    {
     "data": {
      "text/html": [
       "<div>\n",
       "<style scoped>\n",
       "    .dataframe tbody tr th:only-of-type {\n",
       "        vertical-align: middle;\n",
       "    }\n",
       "\n",
       "    .dataframe tbody tr th {\n",
       "        vertical-align: top;\n",
       "    }\n",
       "\n",
       "    .dataframe thead th {\n",
       "        text-align: right;\n",
       "    }\n",
       "</style>\n",
       "<table border=\"1\" class=\"dataframe\">\n",
       "  <thead>\n",
       "    <tr style=\"text-align: right;\">\n",
       "      <th></th>\n",
       "      <th>MONTH</th>\n",
       "      <th>temp_celsius</th>\n",
       "      <th>month</th>\n",
       "      <th>ref_temp</th>\n",
       "      <th>diff</th>\n",
       "    </tr>\n",
       "  </thead>\n",
       "  <tbody>\n",
       "    <tr>\n",
       "      <th>0</th>\n",
       "      <td>195901</td>\n",
       "      <td>NaN</td>\n",
       "      <td>1</td>\n",
       "      <td>-16.153425</td>\n",
       "      <td>NaN</td>\n",
       "    </tr>\n",
       "    <tr>\n",
       "      <th>1</th>\n",
       "      <td>196001</td>\n",
       "      <td>-19.121864</td>\n",
       "      <td>1</td>\n",
       "      <td>-16.153425</td>\n",
       "      <td>-2.968439</td>\n",
       "    </tr>\n",
       "    <tr>\n",
       "      <th>2</th>\n",
       "      <td>196101</td>\n",
       "      <td>-11.182796</td>\n",
       "      <td>1</td>\n",
       "      <td>-16.153425</td>\n",
       "      <td>4.970629</td>\n",
       "    </tr>\n",
       "    <tr>\n",
       "      <th>3</th>\n",
       "      <td>196201</td>\n",
       "      <td>-15.421147</td>\n",
       "      <td>1</td>\n",
       "      <td>-16.153425</td>\n",
       "      <td>0.732278</td>\n",
       "    </tr>\n",
       "    <tr>\n",
       "      <th>4</th>\n",
       "      <td>196301</td>\n",
       "      <td>-18.145161</td>\n",
       "      <td>1</td>\n",
       "      <td>-16.153425</td>\n",
       "      <td>-1.991736</td>\n",
       "    </tr>\n",
       "  </tbody>\n",
       "</table>\n",
       "</div>"
      ],
      "text/plain": [
       "    MONTH  temp_celsius  month   ref_temp      diff\n",
       "0  195901           NaN      1 -16.153425       NaN\n",
       "1  196001    -19.121864      1 -16.153425 -2.968439\n",
       "2  196101    -11.182796      1 -16.153425  4.970629\n",
       "3  196201    -15.421147      1 -16.153425  0.732278\n",
       "4  196301    -18.145161      1 -16.153425 -1.991736"
      ]
     },
     "execution_count": 7,
     "metadata": {},
     "output_type": "execute_result"
    }
   ],
   "source": [
    "monthly_data['month'] = monthly_data['MONTH'].astype(str)\n",
    "monthly_data['month'] = monthly_data[\"month\"].str.slice(start=4, stop=6).astype(int)                                     \n",
    "monthly_data = monthly_data.merge(reference_temps, on='month', how='outer')                                  \n",
    "monthly_data['diff'] = monthly_data['temp_celsius'] - monthly_data['ref_temp']\n",
    "monthly_data.head()"
   ]
  },
  {
   "cell_type": "code",
   "execution_count": 8,
   "metadata": {
    "tags": []
   },
   "outputs": [
    {
     "data": {
      "text/html": [
       "<div>\n",
       "<style scoped>\n",
       "    .dataframe tbody tr th:only-of-type {\n",
       "        vertical-align: middle;\n",
       "    }\n",
       "\n",
       "    .dataframe tbody tr th {\n",
       "        vertical-align: top;\n",
       "    }\n",
       "\n",
       "    .dataframe thead th {\n",
       "        text-align: right;\n",
       "    }\n",
       "</style>\n",
       "<table border=\"1\" class=\"dataframe\">\n",
       "  <thead>\n",
       "    <tr style=\"text-align: right;\">\n",
       "      <th></th>\n",
       "      <th>MONTH</th>\n",
       "      <th>temp_celsius</th>\n",
       "      <th>month</th>\n",
       "      <th>ref_temp</th>\n",
       "      <th>diff</th>\n",
       "    </tr>\n",
       "  </thead>\n",
       "  <tbody>\n",
       "    <tr>\n",
       "      <th>0</th>\n",
       "      <td>195901</td>\n",
       "      <td>NaN</td>\n",
       "      <td>1</td>\n",
       "      <td>-16.153425</td>\n",
       "      <td>NaN</td>\n",
       "    </tr>\n",
       "    <tr>\n",
       "      <th>1</th>\n",
       "      <td>196001</td>\n",
       "      <td>-19.121864</td>\n",
       "      <td>1</td>\n",
       "      <td>-16.153425</td>\n",
       "      <td>-2.968439</td>\n",
       "    </tr>\n",
       "    <tr>\n",
       "      <th>2</th>\n",
       "      <td>196101</td>\n",
       "      <td>-11.182796</td>\n",
       "      <td>1</td>\n",
       "      <td>-16.153425</td>\n",
       "      <td>4.970629</td>\n",
       "    </tr>\n",
       "    <tr>\n",
       "      <th>3</th>\n",
       "      <td>196201</td>\n",
       "      <td>-15.421147</td>\n",
       "      <td>1</td>\n",
       "      <td>-16.153425</td>\n",
       "      <td>0.732278</td>\n",
       "    </tr>\n",
       "    <tr>\n",
       "      <th>4</th>\n",
       "      <td>196301</td>\n",
       "      <td>-18.145161</td>\n",
       "      <td>1</td>\n",
       "      <td>-16.153425</td>\n",
       "      <td>-1.991736</td>\n",
       "    </tr>\n",
       "  </tbody>\n",
       "</table>\n",
       "</div>"
      ],
      "text/plain": [
       "    MONTH  temp_celsius  month   ref_temp      diff\n",
       "0  195901           NaN      1 -16.153425       NaN\n",
       "1  196001    -19.121864      1 -16.153425 -2.968439\n",
       "2  196101    -11.182796      1 -16.153425  4.970629\n",
       "3  196201    -15.421147      1 -16.153425  0.732278\n",
       "4  196301    -18.145161      1 -16.153425 -1.991736"
      ]
     },
     "execution_count": 8,
     "metadata": {},
     "output_type": "execute_result"
    }
   ],
   "source": [
    "monthly_data['diff'] = monthly_data['temp_celsius'] - monthly_data['ref_temp']\n",
    "monthly_data.head()"
   ]
  },
  {
   "cell_type": "code",
   "execution_count": 9,
   "metadata": {
    "tags": []
   },
   "outputs": [
    {
     "data": {
      "text/plain": [
       "687"
      ]
     },
     "execution_count": 9,
     "metadata": {},
     "output_type": "execute_result"
    }
   ],
   "source": [
    "len(monthly_data)"
   ]
  },
  {
   "cell_type": "code",
   "execution_count": 10,
   "metadata": {
    "tags": []
   },
   "outputs": [],
   "source": [
    "# define output filename\n",
    "Lokka = \"Lokka_temperature_anomaly.csv\"\n",
    "\n",
    "# Save dataframe to csv\n",
    "monthly_data.to_csv(Lokka, sep=\",\", index=False, float_format=\"%.1f\")"
   ]
  },
  {
   "cell_type": "code",
   "execution_count": 11,
   "metadata": {
    "tags": []
   },
   "outputs": [
    {
     "data": {
      "text/plain": [
       "'/home/jovyan/Exercise_geopython/exercise-6-rafimt/Helsinki_temperature_anomaly.csv'"
      ]
     },
     "execution_count": 11,
     "metadata": {},
     "output_type": "execute_result"
    }
   ],
   "source": [
    "file_path = find_file(os.getcwd(), \"Helsinki_temperature_anomaly.csv\")\n",
    "file_path"
   ]
  },
  {
   "cell_type": "code",
   "execution_count": 12,
   "metadata": {
    "tags": []
   },
   "outputs": [
    {
     "data": {
      "text/html": [
       "<div>\n",
       "<style scoped>\n",
       "    .dataframe tbody tr th:only-of-type {\n",
       "        vertical-align: middle;\n",
       "    }\n",
       "\n",
       "    .dataframe tbody tr th {\n",
       "        vertical-align: top;\n",
       "    }\n",
       "\n",
       "    .dataframe thead th {\n",
       "        text-align: right;\n",
       "    }\n",
       "</style>\n",
       "<table border=\"1\" class=\"dataframe\">\n",
       "  <thead>\n",
       "    <tr style=\"text-align: right;\">\n",
       "      <th></th>\n",
       "      <th>MONTH</th>\n",
       "      <th>temp_celsius</th>\n",
       "      <th>month</th>\n",
       "      <th>ref_temp</th>\n",
       "      <th>diff</th>\n",
       "    </tr>\n",
       "  </thead>\n",
       "  <tbody>\n",
       "    <tr>\n",
       "      <th>785</th>\n",
       "      <td>201212</td>\n",
       "      <td>-6.6</td>\n",
       "      <td>12</td>\n",
       "      <td>-4.2</td>\n",
       "      <td>-2.5</td>\n",
       "    </tr>\n",
       "    <tr>\n",
       "      <th>786</th>\n",
       "      <td>201312</td>\n",
       "      <td>1.4</td>\n",
       "      <td>12</td>\n",
       "      <td>-4.2</td>\n",
       "      <td>5.5</td>\n",
       "    </tr>\n",
       "    <tr>\n",
       "      <th>787</th>\n",
       "      <td>201412</td>\n",
       "      <td>-1.1</td>\n",
       "      <td>12</td>\n",
       "      <td>-4.2</td>\n",
       "      <td>3.0</td>\n",
       "    </tr>\n",
       "    <tr>\n",
       "      <th>788</th>\n",
       "      <td>201512</td>\n",
       "      <td>2.2</td>\n",
       "      <td>12</td>\n",
       "      <td>-4.2</td>\n",
       "      <td>6.4</td>\n",
       "    </tr>\n",
       "    <tr>\n",
       "      <th>789</th>\n",
       "      <td>201612</td>\n",
       "      <td>-0.8</td>\n",
       "      <td>12</td>\n",
       "      <td>-4.2</td>\n",
       "      <td>3.4</td>\n",
       "    </tr>\n",
       "  </tbody>\n",
       "</table>\n",
       "</div>"
      ],
      "text/plain": [
       "      MONTH  temp_celsius  month  ref_temp  diff\n",
       "785  201212          -6.6     12      -4.2  -2.5\n",
       "786  201312           1.4     12      -4.2   5.5\n",
       "787  201412          -1.1     12      -4.2   3.0\n",
       "788  201512           2.2     12      -4.2   6.4\n",
       "789  201612          -0.8     12      -4.2   3.4"
      ]
     },
     "execution_count": 12,
     "metadata": {},
     "output_type": "execute_result"
    }
   ],
   "source": [
    "fp = r'/home/jovyan/Exercise_geopython/exercise-6-rafimt/Helsinki_temperature_anomaly.csv'\n",
    "monthly_data_Helsinki = pd.read_csv(fp)\n",
    "monthly_data_Lokka = monthly_data_Helsinki.loc[(monthly_data_Helsinki[\"MONTH\"]>=195901) & (monthly_data_Helsinki[\"MONTH\"]<20170101)]\n",
    "monthly_data_Lokka = monthly_data_Lokka.loc[(monthly_data_Lokka[\"MONTH\"]>=195901) & (monthly_data_Lokka[\"MONTH\"]<20170101)]\n",
    "monthly_data_Lokka.tail()"
   ]
  },
  {
   "cell_type": "code",
   "execution_count": 13,
   "metadata": {
    "tags": []
   },
   "outputs": [
    {
     "name": "stdout",
     "output_type": "stream",
     "text": [
      "687\n",
      "790\n"
     ]
    }
   ],
   "source": [
    "monthly_data_Lokka = monthly_data\n",
    "monthly_data_Lokka.tail()\n",
    "print(len(monthly_data_Lokka))\n",
    "print(len(monthly_data_Helsinki))"
   ]
  },
  {
   "cell_type": "code",
   "execution_count": 16,
   "metadata": {
    "tags": []
   },
   "outputs": [],
   "source": [
    "Temp_Diff = pd.DataFrame()\n",
    "# Temp_Diff = monthly_data_Helsinki.merge(monthly_data_Lokka, on='MONTH', how='outer')\n",
    "Temp_Diff[\"MONTH\"] = monthly_data_Helsinki[\"MONTH\"]"
   ]
  },
  {
   "cell_type": "code",
   "execution_count": 18,
   "metadata": {
    "tags": []
   },
   "outputs": [],
   "source": [
    "Temp_Diff[\"diff\"] = monthly_data_Helsinki[\"diff\"] - monthly_data_Lokka[\"diff\"]"
   ]
  },
  {
   "cell_type": "code",
   "execution_count": 19,
   "metadata": {
    "tags": []
   },
   "outputs": [
    {
     "data": {
      "text/html": [
       "<div>\n",
       "<style scoped>\n",
       "    .dataframe tbody tr th:only-of-type {\n",
       "        vertical-align: middle;\n",
       "    }\n",
       "\n",
       "    .dataframe tbody tr th {\n",
       "        vertical-align: top;\n",
       "    }\n",
       "\n",
       "    .dataframe thead th {\n",
       "        text-align: right;\n",
       "    }\n",
       "</style>\n",
       "<table border=\"1\" class=\"dataframe\">\n",
       "  <thead>\n",
       "    <tr style=\"text-align: right;\">\n",
       "      <th></th>\n",
       "      <th>MONTH</th>\n",
       "      <th>diff</th>\n",
       "    </tr>\n",
       "  </thead>\n",
       "  <tbody>\n",
       "    <tr>\n",
       "      <th>0</th>\n",
       "      <td>195201</td>\n",
       "      <td>NaN</td>\n",
       "    </tr>\n",
       "    <tr>\n",
       "      <th>1</th>\n",
       "      <td>195301</td>\n",
       "      <td>3.368439</td>\n",
       "    </tr>\n",
       "    <tr>\n",
       "      <th>2</th>\n",
       "      <td>195401</td>\n",
       "      <td>-6.170629</td>\n",
       "    </tr>\n",
       "    <tr>\n",
       "      <th>3</th>\n",
       "      <td>195501</td>\n",
       "      <td>-0.332278</td>\n",
       "    </tr>\n",
       "    <tr>\n",
       "      <th>4</th>\n",
       "      <td>195601</td>\n",
       "      <td>-0.308264</td>\n",
       "    </tr>\n",
       "  </tbody>\n",
       "</table>\n",
       "</div>"
      ],
      "text/plain": [
       "    MONTH      diff\n",
       "0  195201       NaN\n",
       "1  195301  3.368439\n",
       "2  195401 -6.170629\n",
       "3  195501 -0.332278\n",
       "4  195601 -0.308264"
      ]
     },
     "execution_count": 19,
     "metadata": {},
     "output_type": "execute_result"
    }
   ],
   "source": [
    "Temp_Diff.head()"
   ]
  },
  {
   "cell_type": "code",
   "execution_count": 21,
   "metadata": {
    "tags": []
   },
   "outputs": [
    {
     "ename": "AttributeError",
     "evalue": "'str' object has no attribute 'to_csv'",
     "output_type": "error",
     "traceback": [
      "\u001b[0;31m---------------------------------------------------------------------------\u001b[0m",
      "\u001b[0;31mAttributeError\u001b[0m                            Traceback (most recent call last)",
      "Cell \u001b[0;32mIn[21], line 5\u001b[0m\n\u001b[1;32m      2\u001b[0m Temp_Difference \u001b[38;5;241m=\u001b[39m \u001b[38;5;124m\"\u001b[39m\u001b[38;5;124mHelsinki_Lokka_temperature_anomaly.csv\u001b[39m\u001b[38;5;124m\"\u001b[39m\n\u001b[1;32m      4\u001b[0m \u001b[38;5;66;03m# Save dataframe to csv\u001b[39;00m\n\u001b[0;32m----> 5\u001b[0m \u001b[43mTemp_Difference\u001b[49m\u001b[38;5;241;43m.\u001b[39;49m\u001b[43mto_csv\u001b[49m(Temp_Diff, sep\u001b[38;5;241m=\u001b[39m\u001b[38;5;124m\"\u001b[39m\u001b[38;5;124m,\u001b[39m\u001b[38;5;124m\"\u001b[39m, index\u001b[38;5;241m=\u001b[39m\u001b[38;5;28;01mFalse\u001b[39;00m, float_format\u001b[38;5;241m=\u001b[39m\u001b[38;5;124m\"\u001b[39m\u001b[38;5;132;01m%.2f\u001b[39;00m\u001b[38;5;124m\"\u001b[39m)\n",
      "\u001b[0;31mAttributeError\u001b[0m: 'str' object has no attribute 'to_csv'"
     ]
    }
   ],
   "source": [
    "# define output filename\n",
    "Temp_Difference = \"Helsinki_Lokka_temperature_anomaly.csv\"\n",
    "\n",
    "# Save dataframe to csv\n",
    "Temp_Difference.to_csv(Temp_Diff, sep=\",\", index=False, float_format=\"%.2f\")"
   ]
  },
  {
   "cell_type": "code",
   "execution_count": null,
   "metadata": {},
   "outputs": [],
   "source": []
  }
 ],
 "metadata": {
  "kernelspec": {
   "display_name": "Python 3 (ipykernel)",
   "language": "python",
   "name": "python3"
  },
  "language_info": {
   "codemirror_mode": {
    "name": "ipython",
    "version": 3
   },
   "file_extension": ".py",
   "mimetype": "text/x-python",
   "name": "python",
   "nbconvert_exporter": "python",
   "pygments_lexer": "ipython3",
   "version": "3.10.10"
  }
 },
 "nbformat": 4,
 "nbformat_minor": 4
}
